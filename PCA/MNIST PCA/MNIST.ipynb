{
 "cells": [
  {
   "cell_type": "markdown",
   "metadata": {},
   "source": [
    "# Principal Component Analysis (PCA)\n",
    "We will implement the PCA algorithm. We will first implement PCA, then apply it (once again) to the MNIST digit dataset."
   ]
  },
  {
   "cell_type": "markdown",
   "metadata": {},
   "source": [
    "## Learning objective\n",
    "1. Write code that implements PCA.\n",
    "2. Write code that implements PCA for high-dimensional datasets"
   ]
  },
  {
   "cell_type": "markdown",
   "metadata": {},
   "source": [
    "Let's first import the packages we need for this week."
   ]
  },
  {
   "cell_type": "code",
   "execution_count": 15,
   "metadata": {},
   "outputs": [],
   "source": [
    "# PACKAGE: DO NOT EDIT THIS CELL\n",
    "import numpy as np\n",
    "import timeit\n",
    "import sklearn\n",
    "import matplotlib as mpl\n",
    "mpl.use('Agg')                        # to use Agg backend\n",
    "import matplotlib.pyplot as plt          \n",
    "plt.style.use('fivethirtyeight')\n",
    "from ipywidgets import interact       # to iterate over the images while visualizing results\n",
    "from load_data import load_mnist  \n",
    "MNIST = load_mnist()\n",
    "images, labels = MNIST['data'], MNIST['target']\n",
    "import warnings\n",
    "warnings.filterwarnings(\"ignore\")"
   ]
  },
  {
   "cell_type": "code",
   "execution_count": 2,
   "metadata": {},
   "outputs": [
    {
     "data": {
      "text/plain": [
       "((70000, 784), (70000,))"
      ]
     },
     "execution_count": 2,
     "metadata": {},
     "output_type": "execute_result"
    }
   ],
   "source": [
    "images.shape, labels.shape"
   ]
  },
  {
   "cell_type": "code",
   "execution_count": 50,
   "metadata": {},
   "outputs": [],
   "source": [
    "%matplotlib inline"
   ]
  },
  {
   "cell_type": "markdown",
   "metadata": {},
   "source": [
    "Now, let's plot a digit from the dataset:"
   ]
  },
  {
   "cell_type": "code",
   "execution_count": 4,
   "metadata": {},
   "outputs": [
    {
     "data": {
      "image/png": "[encoded data removed]",
      "text/plain": [
       "<Figure size 288x288 with 1 Axes>"
      ]
     },
     "metadata": {
      "needs_background": "light"
     },
     "output_type": "display_data"
    }
   ],
   "source": [
    "plt.figure(figsize=(4,4))\n",
    "plt.imshow(images[0].reshape(28,28), cmap='gray');"
   ]
  },
  {
   "cell_type": "markdown",
   "metadata": {},
   "source": [
    "Before we implement PCA, we will need to do some data preprocessing. In this assessment, some of them \n",
    "will be implemented by you, others we will take care of. However, when you are working on real world problems, you will need to do all these steps by yourself!\n",
    "\n",
    "The preprocessing steps we will do are\n",
    "1. Convert unsigned interger 8 (uint8) encoding of pixels to a floating point number between 0-1.\n",
    "2. Subtract from each image the mean $\\boldsymbol \\mu$.\n",
    "3. Scale each dimension of each image by $\\frac{1}{\\sigma}$ where $\\sigma$ is the stardard deviation.\n",
    "\n",
    "The steps above ensure that our images will have zero mean and one variance. These preprocessing\n",
    "steps are also known as [Data Normalization or Feature Scaling](https://en.wikipedia.org/wiki/Feature_scaling)."
   ]
  },
  {
   "cell_type": "markdown",
   "metadata": {},
   "source": [
    "## 1. PCA\n",
    "\n",
    "Now we will implement PCA. Before we do that, let's pause for a moment and\n",
    "think about the steps for performing PCA. Assume that we are performing PCA on\n",
    "some dataset $\\boldsymbol X$ for $M$ principal components. \n",
    "We then need to perform the following steps, which we break into parts:\n",
    "\n",
    "1. Data normalization (`normalize`).\n",
    "2. Find eigenvalues and corresponding eigenvectors for the covariance matrix $S$.\n",
    "   Sort by the largest eigenvalues and the corresponding eigenvectors (`eig`).\n",
    "\n",
    "After these steps, we can then compute the projection and reconstruction of the data onto the spaced spanned by the top $n$ eigenvectors."
   ]
  },
  {
   "cell_type": "code",
   "execution_count": 5,
   "metadata": {
    "scrolled": true
   },
   "outputs": [],
   "source": [
    "# GRADED FUNCTION: DO NOT EDIT THIS LINE\n",
    "\n",
    "def normalize(X):\n",
    "    \"\"\"Normalize the given dataset X\n",
    "    Args:\n",
    "        X: ndarray, dataset\n",
    "    \n",
    "    Returns:\n",
    "        (Xbar, mean, std): tuple of ndarray, Xbar is the normalized dataset\n",
    "        with mean 0 and standard deviation 1; mean and std are the \n",
    "        mean and standard deviation respectively.\n",
    "    \n",
    "    Note:\n",
    "        You will encounter dimensions where the standard deviation is\n",
    "        zero, for those when you do normalization the normalized data\n",
    "        will be NaN. Handle this by setting using `std = 1` for those \n",
    "        dimensions when doing normalization.\n",
    "    \"\"\"\n",
    "    #mu = np.zeros(X.shape[1]) # <-- EDIT THIS, compute the mean of X\n",
    "    mu = np.mean(X, axis = 0, keepdims = True) \n",
    "    std = np.std(X, axis = 0, keepdims = True)\n",
    "    std_filled = std.copy()\n",
    "    std_filled[std==0] = 1.\n",
    "    #Xbar = X                  # <-- EDIT THIS, compute the normalized data Xbar\n",
    "    Xbar = (X - mu) / std_filled\n",
    "    return Xbar, mu, std\n",
    "\n",
    "def eig(S):\n",
    "    \"\"\"Compute the eigenvalues and corresponding eigenvectors \n",
    "        for the covariance matrix S.\n",
    "    Args:\n",
    "        S: ndarray, covariance matrix\n",
    "    \n",
    "    Returns:\n",
    "        (eigvals, eigvecs): ndarray, the eigenvalues and eigenvectors\n",
    "\n",
    "    Note:\n",
    "        the eigenvals and eigenvecs should be sorted in descending\n",
    "        order of the eigen values\n",
    "    \"\"\"\n",
    "    eVals, eVecs = np.linalg.eig(S)\n",
    "    order = np.argsort(eVals)[::-1] # sort the eigenvals in descending order.\n",
    "    eVals = eVals[order]\n",
    "    eVecs = eVecs[:, order]\n",
    "    return (eVals, eVecs) # <-- EDIT THIS to return the eigenvalues and corresponding eigenvectors\n",
    "\n",
    "def projection_matrix(B):\n",
    "    \"\"\"Compute the projection matrix onto the space spanned by `B`\n",
    "    Args:\n",
    "        B: ndarray of dimension (D, M), the basis for the subspace\n",
    "    \n",
    "    Returns:\n",
    "        P: the projection matrix\n",
    "    \"\"\"\n",
    "    P = B @ np.linalg.inv(B.T @ B) @ B.T\n",
    "    return P # <-- EDIT THIS to compute the projection matrix\n",
    "\n",
    "def PCA(X, num_components):\n",
    "    \"\"\"\n",
    "    Args:\n",
    "        X: ndarray of size (N, D), where D is the dimension of the data,\n",
    "           and N is the number of datapoints\n",
    "        num_components: the number of principal components to use.\n",
    "    Returns:\n",
    "        X_reconstruct: ndarray of the reconstruction\n",
    "        of X from the first `num_components` principal components.\n",
    "    \"\"\"\n",
    "    # your solution should take advantage of the functions you have implemented above.\n",
    "    N, D = X.shape\n",
    "    X_normalized, mu, std = normalize(X)\n",
    "    X_normalized.shape\n",
    "    # covariance matrix with mean 0\n",
    "    S = (X_normalized.T @ X_normalized) / N\n",
    "    code, onb = eig(S)\n",
    "    code = code[:num_components]\n",
    "    onb = onb[:, :num_components]\n",
    "    # P with the dimension(D, D)\n",
    "    P = projection_matrix(onb)\n",
    "    X_projection = P @ X.T\n",
    "    return X_projection.T # <-- EDIT THIS to return the reconstruction of X\n",
    "\n",
    "    ## Some preprocessing of the data\n",
    "\n",
    "\n"
   ]
  },
  {
   "cell_type": "code",
   "execution_count": 6,
   "metadata": {},
   "outputs": [],
   "source": [
    "## Some preprocessing of the data\n",
    "NUM_DATAPOINTS = 1000\n",
    "X = (images.reshape(-1, 28 * 28)[:NUM_DATAPOINTS]) / 255.\n",
    "Xbar, mu, std = normalize(X)"
   ]
  },
  {
   "cell_type": "code",
   "execution_count": 7,
   "metadata": {},
   "outputs": [
    {
     "name": "stdout",
     "output_type": "stream",
     "text": [
      "(7.877722018967922e-24+0j)\n",
      "(8.640938164204201e-24+0j)\n",
      "(9.273754685335655e-24+0j)\n",
      "(6.364541044908725e-24+0j)\n",
      "(7.517512340257248e-24+0j)\n",
      "(8.699719744419899e-24+0j)\n",
      "(2.728664716695182e-23+0j)\n",
      "(2.271335027237516e-23+0j)\n",
      "(2.9625348945270924e-23+0j)\n",
      "(2.8295837676158077e-22+0j)\n",
      "(1.3697310530115526e-22+0j)\n",
      "(9.596632992613407e-23+0j)\n",
      "(3.333081239512345e-21+0j)\n",
      "(5.416937598997591e-23+0j)\n",
      "(4.016558412961912e-23+0j)\n",
      "(4.187765463476189e-23+0j)\n",
      "(3.6219953159024e-23+0j)\n",
      "(6.996025716231221e-23+0j)\n",
      "(5.1890812627111517e-23+0j)\n"
     ]
    }
   ],
   "source": [
    "for num_component in range(1, 20):\n",
    "    from sklearn.decomposition import PCA as SKPCA\n",
    "    # We can compute a standard solution given by scikit-learn's implementation of PCA\n",
    "    pca = SKPCA(n_components=num_component, svd_solver='full')\n",
    "    sklearn_reconst = pca.inverse_transform(pca.fit_transform(Xbar))\n",
    "    reconst = PCA(Xbar, num_component)\n",
    "    np.testing.assert_almost_equal(reconst, sklearn_reconst)\n",
    "    print(np.square(reconst - sklearn_reconst).sum())"
   ]
  },
  {
   "cell_type": "markdown",
   "metadata": {},
   "source": [
    "The greater number of of principal components we use, the smaller will our reconstruction\n",
    "error be. Now, let's answer the following question: \n",
    "\n",
    "\n",
    "> How many principal components do we need\n",
    "> in order to reach a Mean Squared Error (MSE) of less than $100$ for our dataset?\n",
    "\n"
   ]
  },
  {
   "cell_type": "markdown",
   "metadata": {},
   "source": [
    "We have provided a function in the next cell which computes the mean squared error (MSE), which will be useful for answering the question above."
   ]
  },
  {
   "cell_type": "code",
   "execution_count": 8,
   "metadata": {},
   "outputs": [],
   "source": [
    "def mse(predict, actual):\n",
    "    \"\"\"Helper function for computing the mean squared error (MSE)\"\"\"\n",
    "    return np.square(predict - actual).sum(axis=1).mean()"
   ]
  },
  {
   "cell_type": "code",
   "execution_count": 9,
   "metadata": {},
   "outputs": [
    {
     "name": "stdout",
     "output_type": "stream",
     "text": [
      "n = 1, reconstruction_error = 445.176488+0.000000j\n",
      "n = 2, reconstruction_error = 403.941979+0.000000j\n",
      "n = 3, reconstruction_error = 377.592431+0.000000j\n",
      "n = 4, reconstruction_error = 353.300124+0.000000j\n",
      "n = 5, reconstruction_error = 335.442895+0.000000j\n",
      "n = 6, reconstruction_error = 320.515895+0.000000j\n",
      "n = 7, reconstruction_error = 307.284207+0.000000j\n",
      "n = 8, reconstruction_error = 294.953574+0.000000j\n",
      "n = 9, reconstruction_error = 283.976615+0.000000j\n",
      "n = 10, reconstruction_error = 274.013351+0.000000j\n",
      "n = 11, reconstruction_error = 264.535178+0.000000j\n",
      "n = 12, reconstruction_error = 255.411519+0.000000j\n",
      "n = 13, reconstruction_error = 246.977773+0.000000j\n",
      "n = 14, reconstruction_error = 238.612489+0.000000j\n",
      "n = 15, reconstruction_error = 230.823945+0.000000j\n",
      "n = 16, reconstruction_error = 223.745087+0.000000j\n",
      "n = 17, reconstruction_error = 217.252885+0.000000j\n",
      "n = 18, reconstruction_error = 211.109805+0.000000j\n",
      "n = 19, reconstruction_error = 205.191266+0.000000j\n",
      "n = 20, reconstruction_error = 199.459376+0.000000j\n",
      "n = 21, reconstruction_error = 193.830646+0.000000j\n",
      "n = 22, reconstruction_error = 188.729930+0.000000j\n",
      "n = 23, reconstruction_error = 183.680207+0.000000j\n",
      "n = 24, reconstruction_error = 178.716447+0.000000j\n",
      "n = 25, reconstruction_error = 173.838899+0.000000j\n",
      "n = 26, reconstruction_error = 169.240087+0.000000j\n",
      "n = 27, reconstruction_error = 164.709929+0.000000j\n",
      "n = 28, reconstruction_error = 160.399040+0.000000j\n",
      "n = 29, reconstruction_error = 156.242176+0.000000j\n",
      "n = 30, reconstruction_error = 152.314700+0.000000j\n",
      "n = 31, reconstruction_error = 148.585512+0.000000j\n",
      "n = 32, reconstruction_error = 144.967513+0.000000j\n",
      "n = 33, reconstruction_error = 141.463610+0.000000j\n",
      "n = 34, reconstruction_error = 138.049052+0.000000j\n",
      "n = 35, reconstruction_error = 134.804194+0.000000j\n",
      "n = 36, reconstruction_error = 131.637698+0.000000j\n",
      "n = 37, reconstruction_error = 128.514868+0.000000j\n",
      "n = 38, reconstruction_error = 125.449114+0.000000j\n",
      "n = 39, reconstruction_error = 122.445685+0.000000j\n",
      "n = 40, reconstruction_error = 119.617802+0.000000j\n",
      "n = 41, reconstruction_error = 116.861161+0.000000j\n",
      "n = 42, reconstruction_error = 114.120986+0.000000j\n",
      "n = 43, reconstruction_error = 111.494982+0.000000j\n",
      "n = 44, reconstruction_error = 109.043607+0.000000j\n",
      "n = 45, reconstruction_error = 106.677698+0.000000j\n",
      "n = 46, reconstruction_error = 104.411285+0.000000j\n",
      "n = 47, reconstruction_error = 102.289186+0.000000j\n",
      "n = 48, reconstruction_error = 100.209621+0.000000j\n",
      "n = 49, reconstruction_error = 98.186397+0.000000j\n",
      "n = 50, reconstruction_error = 96.202592+0.000000j\n",
      "n = 51, reconstruction_error = 94.230480+0.000000j\n",
      "n = 52, reconstruction_error = 92.321572+0.000000j\n",
      "n = 53, reconstruction_error = 90.452334+0.000000j\n",
      "n = 54, reconstruction_error = 88.719880+0.000000j\n",
      "n = 55, reconstruction_error = 87.010172+0.000000j\n",
      "n = 56, reconstruction_error = 85.357146+0.000000j\n",
      "n = 57, reconstruction_error = 83.733070+0.000000j\n",
      "n = 58, reconstruction_error = 82.134603+0.000000j\n",
      "n = 59, reconstruction_error = 80.557153+0.000000j\n",
      "n = 60, reconstruction_error = 79.043511+0.000000j\n",
      "n = 61, reconstruction_error = 77.591119+0.000000j\n",
      "n = 62, reconstruction_error = 76.179282+0.000000j\n",
      "n = 63, reconstruction_error = 74.839740+0.000000j\n",
      "n = 64, reconstruction_error = 73.537097+0.000000j\n",
      "n = 65, reconstruction_error = 72.263037+0.000000j\n",
      "n = 66, reconstruction_error = 71.014394+0.000000j\n",
      "n = 67, reconstruction_error = 69.789344+0.000000j\n",
      "n = 68, reconstruction_error = 68.600844+0.000000j\n",
      "n = 69, reconstruction_error = 67.430337+0.000000j\n",
      "n = 70, reconstruction_error = 66.293432+0.000000j\n",
      "n = 71, reconstruction_error = 65.181586+0.000000j\n",
      "n = 72, reconstruction_error = 64.095697+0.000000j\n",
      "n = 73, reconstruction_error = 63.024775+0.000000j\n",
      "n = 74, reconstruction_error = 61.964528+0.000000j\n",
      "n = 75, reconstruction_error = 60.928472+0.000000j\n",
      "n = 76, reconstruction_error = 59.927952+0.000000j\n",
      "n = 77, reconstruction_error = 58.936304+0.000000j\n",
      "n = 78, reconstruction_error = 57.959615+0.000000j\n",
      "n = 79, reconstruction_error = 56.997041+0.000000j\n",
      "n = 80, reconstruction_error = 56.062799+0.000000j\n",
      "n = 81, reconstruction_error = 55.152727+0.000000j\n",
      "n = 82, reconstruction_error = 54.257452+0.000000j\n",
      "n = 83, reconstruction_error = 53.377407+0.000000j\n",
      "n = 84, reconstruction_error = 52.519199+0.000000j\n",
      "n = 85, reconstruction_error = 51.663204+0.000000j\n",
      "n = 86, reconstruction_error = 50.851429+0.000000j\n",
      "n = 87, reconstruction_error = 50.049822+0.000000j\n",
      "n = 88, reconstruction_error = 49.255963+0.000000j\n",
      "n = 89, reconstruction_error = 48.485538+0.000000j\n",
      "n = 90, reconstruction_error = 47.726620+0.000000j\n",
      "n = 91, reconstruction_error = 46.986703+0.000000j\n",
      "n = 92, reconstruction_error = 46.268002+0.000000j\n",
      "n = 93, reconstruction_error = 45.556610+0.000000j\n",
      "n = 94, reconstruction_error = 44.859183+0.000000j\n",
      "n = 95, reconstruction_error = 44.184838+0.000000j\n",
      "n = 96, reconstruction_error = 43.525914+0.000000j\n",
      "n = 97, reconstruction_error = 42.894227+0.000000j\n",
      "n = 98, reconstruction_error = 42.270628+0.000000j\n",
      "n = 99, reconstruction_error = 41.655122+0.000000j\n"
     ]
    }
   ],
   "source": [
    "loss = []\n",
    "reconstructions = []\n",
    "# iterate over different number of principal components, and compute the MSE\n",
    "for num_component in range(1, 100):\n",
    "    reconst = PCA(Xbar, num_component)\n",
    "    error = mse(reconst, Xbar)\n",
    "    reconstructions.append(reconst)\n",
    "    print('n = {:d}, reconstruction_error = {:f}'.format(num_component, error))\n",
    "    loss.append((num_component, error))\n",
    "\n",
    "reconstructions = np.asarray(reconstructions)\n",
    "reconstructions = reconstructions * std + mu # \"unnormalize\" the reconstructed image\n",
    "loss = np.asarray(loss)"
   ]
  },
  {
   "cell_type": "code",
   "execution_count": 10,
   "metadata": {},
   "outputs": [
    {
     "data": {
      "text/html": [
       "<div>\n",
       "<style scoped>\n",
       "    .dataframe tbody tr th:only-of-type {\n",
       "        vertical-align: middle;\n",
       "    }\n",
       "\n",
       "    .dataframe tbody tr th {\n",
       "        vertical-align: top;\n",
       "    }\n",
       "\n",
       "    .dataframe thead th {\n",
       "        text-align: right;\n",
       "    }\n",
       "</style>\n",
       "<table border=\"1\" class=\"dataframe\">\n",
       "  <thead>\n",
       "    <tr style=\"text-align: right;\">\n",
       "      <th></th>\n",
       "      <th>0</th>\n",
       "      <th>1</th>\n",
       "    </tr>\n",
       "  </thead>\n",
       "  <tbody>\n",
       "    <tr>\n",
       "      <th>0</th>\n",
       "      <td>1.0+0.0j</td>\n",
       "      <td>445.176488+0.000000j</td>\n",
       "    </tr>\n",
       "    <tr>\n",
       "      <th>1</th>\n",
       "      <td>2.0+0.0j</td>\n",
       "      <td>403.941979+0.000000j</td>\n",
       "    </tr>\n",
       "    <tr>\n",
       "      <th>2</th>\n",
       "      <td>3.0+0.0j</td>\n",
       "      <td>377.592431+0.000000j</td>\n",
       "    </tr>\n",
       "    <tr>\n",
       "      <th>3</th>\n",
       "      <td>4.0+0.0j</td>\n",
       "      <td>353.300124+0.000000j</td>\n",
       "    </tr>\n",
       "    <tr>\n",
       "      <th>4</th>\n",
       "      <td>5.0+0.0j</td>\n",
       "      <td>335.442895+0.000000j</td>\n",
       "    </tr>\n",
       "  </tbody>\n",
       "</table>\n",
       "</div>"
      ],
      "text/plain": [
       "          0                     1\n",
       "0  1.0+0.0j  445.176488+0.000000j\n",
       "1  2.0+0.0j  403.941979+0.000000j\n",
       "2  3.0+0.0j  377.592431+0.000000j\n",
       "3  4.0+0.0j  353.300124+0.000000j\n",
       "4  5.0+0.0j  335.442895+0.000000j"
      ]
     },
     "execution_count": 10,
     "metadata": {},
     "output_type": "execute_result"
    }
   ],
   "source": [
    "import pandas as pd\n",
    "# create a table showing the number of principal components and MSE\n",
    "pd.DataFrame(loss).head()"
   ]
  },
  {
   "cell_type": "markdown",
   "metadata": {},
   "source": [
    "We can also put these numbers into perspective by plotting them."
   ]
  },
  {
   "cell_type": "code",
   "execution_count": 11,
   "metadata": {},
   "outputs": [
    {
     "name": "stderr",
     "output_type": "stream",
     "text": [
      "C:\\Users\\manue\\anaconda3\\envs\\Bridge\\lib\\site-packages\\numpy\\core\\_asarray.py:102: ComplexWarning: Casting complex values to real discards the imaginary part\n",
      "  return array(a, dtype, copy=False, order=order)\n"
     ]
    },
    {
     "data": {
      "image/png": "[encoded data removed]",
      "text/plain": [
       "<Figure size 432x288 with 1 Axes>"
      ]
     },
     "metadata": {
      "needs_background": "light"
     },
     "output_type": "display_data"
    }
   ],
   "source": [
    "fig, ax = plt.subplots()\n",
    "ax.plot(loss[:,0], loss[:,1]);\n",
    "ax.axhline(100, linestyle='--', color='r', linewidth=2)\n",
    "ax.xaxis.set_ticks(np.arange(1, 100, 5));\n",
    "ax.set(xlabel='num_components', ylabel='MSE', title='MSE vs number of principal components');"
   ]
  },
  {
   "cell_type": "markdown",
   "metadata": {},
   "source": [
    "But _numbers dont't tell us everything_! Just what does it mean _qualitatively_ for the loss to decrease from around\n",
    "$450.0$ to less than $100.0$?\n",
    "\n",
    "Let's find out! In the next cell, we draw the the leftmost image is the original dight. Then we show the reconstruction of the image on the right, in descending number of principal components used."
   ]
  },
  {
   "cell_type": "code",
   "execution_count": 12,
   "metadata": {},
   "outputs": [
    {
     "name": "stderr",
     "output_type": "stream",
     "text": [
      "C:\\Users\\manue\\AppData\\Local\\Temp/ipykernel_7104/239180837.py:5: DeprecationWarning: `np.float` is a deprecated alias for the builtin `float`. To silence this warning, use `float` by itself. Doing this will not modify any behavior and is safe. If you specifically wanted the numpy scalar type, use `np.float64` here.\n",
      "Deprecated in NumPy 1.20; for more details and guidance: https://numpy.org/devdocs/release/1.20.0-notes.html#deprecations\n",
      "  ax.imshow(np.hstack(x.astype(np.float).reshape(-1,28, 28)[np.arange(30)]),\n",
      "C:\\Users\\manue\\AppData\\Local\\Temp/ipykernel_7104/239180837.py:5: ComplexWarning: Casting complex values to real discards the imaginary part\n",
      "  ax.imshow(np.hstack(x.astype(np.float).reshape(-1,28, 28)[np.arange(30)]),\n"
     ]
    },
    {
     "data": {
      "text/plain": [
       "<matplotlib.lines.Line2D at 0x1c11bfa97f0>"
      ]
     },
     "execution_count": 12,
     "metadata": {},
     "output_type": "execute_result"
    },
    {
     "data": {
      "image/png": "[encoded data removed]",
      "text/plain": [
       "<Figure size 1440x1440 with 1 Axes>"
      ]
     },
     "metadata": {
      "needs_background": "light"
     },
     "output_type": "display_data"
    }
   ],
   "source": [
    "fig, ax = plt.subplots(figsize=(20., 20.))\n",
    "actual = X[0]\n",
    "# concatenate the actual and reconstructed images as large image before plotting it\n",
    "x = np.concatenate([actual[np.newaxis, :], reconstructions[:, 0]])\n",
    "ax.imshow(np.hstack(x.astype(np.float).reshape(-1,28, 28)[np.arange(30)]),\n",
    "          cmap='gray');\n",
    "ax.axvline(28, color='orange', linewidth=2)\n"
   ]
  },
  {
   "cell_type": "code",
   "execution_count": 53,
   "metadata": {
    "scrolled": true
   },
   "outputs": [
    {
     "data": {
      "application/vnd.jupyter.widget-view+json": {
       "model_id": "2f38d3e1526448618ea5d299879823f6",
       "version_major": 2,
       "version_minor": 0
      },
      "text/plain": [
       "interactive(children=(IntSlider(value=0, description='image_idx', max=1000), Output()), _dom_classes=('widget-…"
      ]
     },
     "metadata": {},
     "output_type": "display_data"
    }
   ],
   "source": [
    "@interact(image_idx=(0, 1000))\n",
    "def show_num_components_reconst(image_idx=0):\n",
    "    fig, ax = plt.subplots(figsize=(20., 20.))\n",
    "    actual = X[image_idx]\n",
    "    # concatenate the actual and reconstructed images as large image before plotting it\n",
    "    x = np.concatenate([actual[np.newaxis, :], reconstructions[:, image_idx]])\n",
    "    ax.imshow(np.hstack(x.astype(np.float).reshape(-1, 28, 28)[np.arange(10)]),\n",
    "              cmap='gray');\n",
    "    ax.axvline(28, color='orange', linewidth=2);\n",
    "    plt.show()\n",
    "       "
   ]
  },
  {
   "cell_type": "markdown",
   "metadata": {},
   "source": [
    "We can also browse throught the reconstructions for other digits. Once again, `interact` becomes handy for visualing the reconstruction."
   ]
  },
  {
   "cell_type": "code",
   "execution_count": 52,
   "metadata": {
    "scrolled": true
   },
   "outputs": [
    {
     "data": {
      "application/vnd.jupyter.widget-view+json": {
       "model_id": "588860a257af4a04ade730ac960dae46",
       "version_major": 2,
       "version_minor": 0
      },
      "text/plain": [
       "interactive(children=(IntSlider(value=1, description='i', max=10), Output()), _dom_classes=('widget-interact',…"
      ]
     },
     "metadata": {},
     "output_type": "display_data"
    }
   ],
   "source": [
    "@interact(i=(0, 10))\n",
    "def show_pca_digits(i=1):\n",
    "    \"\"\"Show the i th digit and its reconstruction\"\"\"\n",
    "    plt.figure(figsize=(4,4))\n",
    "    actual_sample = X[i].reshape(28,28).astype(np.float)\n",
    "    reconst_sample = (reconst[i, :] * std + mu).reshape(28, 28).astype(np.float)\n",
    "    plt.imshow(np.hstack([actual_sample, reconst_sample]), cmap='gray')\n",
    "    plt.show()"
   ]
  },
  {
   "cell_type": "markdown",
   "metadata": {},
   "source": [
    "## 2. PCA for high-dimensional datasets\n",
    "\n",
    "Sometimes, the dimensionality of our dataset may be larger than the number of samples we\n",
    "have. Then it might be inefficient to perform PCA with your implementation above. Instead,\n",
    "as mentioned in the lectures, you can implement PCA in a more efficient manner, which we\n",
    "call \"PCA for high dimensional data\" (PCA_high_dim).\n",
    "\n",
    "Below are the steps for performing PCA for high dimensional dataset\n",
    "1. Compute the matrix $XX^T$ (a $N$ by $N$ matrix with $N << D$)\n",
    "2. Compute eigenvalues $\\lambda$s and eigenvectors $V$ for $XX^T$\n",
    "3. Compute the eigenvectors for the original covariance matrix as $X^TV$. Choose the eigenvectors associated with the M largest eigenvalues to be the basis of the principal subspace $U$.\n",
    "4. Compute the orthogonal projection of the data onto the subspace spanned by columns of $U$. Functions you wrote for earlier assignments will be useful."
   ]
  },
  {
   "cell_type": "code",
   "execution_count": 54,
   "metadata": {},
   "outputs": [],
   "source": [
    "# GRADED FUNCTION: DO NOT EDIT THIS LINE\n",
    "### PCA for high dimensional datasets\n",
    "\n",
    "def PCA_high_dim(X, n_components):\n",
    "    \"\"\"Compute PCA for small sample size but high-dimensional features. \n",
    "    Args:\n",
    "        X: ndarray of size (N, D), where D is the dimension of the sample,\n",
    "           and N is the number of samples\n",
    "        num_components: the number of principal components to use.\n",
    "    Returns:\n",
    "        X_reconstruct: (N, D) ndarray. the reconstruction\n",
    "        of X from the first `num_components` pricipal components.\n",
    "    \"\"\"\n",
    "    N, D = X.shape\n",
    "    S_prime = (X @ X.T) / N\n",
    "    code_prime, onb_prime = eig(S_prime)\n",
    "    code_prime = code_prime[:n_components]\n",
    "    onb_prime = onb_prime[:, :n_components]\n",
    "    # calculate the principle subspace U\n",
    "    U = X.T @ onb_prime # (D, N) @ (N, n_components)\n",
    "    P = projection_matrix(U)\n",
    "    X_projection = P @ X.T\n",
    "    return X_projection.T # <-- EDIT THIS to return the reconstruction of X\n"
   ]
  },
  {
   "cell_type": "markdown",
   "metadata": {},
   "source": [
    "Given the same dataset, `PCA_high_dim` and `PCA` should give the same output. \n",
    "Assuming we have implemented `PCA`, correctly, we can then use `PCA` to test the correctness\n",
    "of `PCA_high_dim`. Given the same dataset, `PCA` and `PCA_high_dim` should give identical results.\n",
    "\n",
    "We can use this __invariant__\n",
    "to test our implementation of PCA_high_dim, assuming that we have correctly implemented `PCA`."
   ]
  },
  {
   "cell_type": "code",
   "execution_count": 55,
   "metadata": {},
   "outputs": [],
   "source": [
    "np.testing.assert_almost_equal(PCA(Xbar, 2), PCA_high_dim(Xbar, 2))"
   ]
  },
  {
   "cell_type": "markdown",
   "metadata": {},
   "source": [
    "Now let's compare the running time between `PCA` and `PCA_high_dim`.\n",
    "\n",
    "__Tips__ for running benchmarks or computationally expensive code:\n",
    "\n",
    "When you have some computation that takes up a non-negligible amount of time. Try separating\n",
    "the code that produces output from the code that analyzes the result (e.g. plot the results, comput statistics of the results). In this way, you don't have to recompute when you want to produce more analysis."
   ]
  },
  {
   "cell_type": "markdown",
   "metadata": {},
   "source": [
    "The next cell includes a function that records the time taken for executing a function `f` by repeating it for `repeat` number of times. You do not need to modify the function but you can use it to compare the running time for functions which you are interested in knowing the running time."
   ]
  },
  {
   "cell_type": "code",
   "execution_count": 56,
   "metadata": {},
   "outputs": [],
   "source": [
    "def time(f, repeat=10):\n",
    "    times = []\n",
    "    for _ in range(repeat):\n",
    "        start = timeit.default_timer()\n",
    "        f()\n",
    "        stop = timeit.default_timer()\n",
    "        times.append(stop-start)\n",
    "    return np.mean(times), np.std(times)"
   ]
  },
  {
   "cell_type": "markdown",
   "metadata": {},
   "source": [
    "We first benchmark the time taken to compute $\\boldsymbol X^T\\boldsymbol X$ and $\\boldsymbol X\\boldsymbol X^T$. Jupyter's magic command `%time` is quite handy."
   ]
  },
  {
   "cell_type": "markdown",
   "metadata": {},
   "source": [
    "The next cell finds the running time for computing `$X^TX$` and $XX^T$ for different dimensions of X."
   ]
  },
  {
   "cell_type": "code",
   "execution_count": 57,
   "metadata": {},
   "outputs": [],
   "source": [
    "times_mm0 = []\n",
    "times_mm1 = []\n",
    "\n",
    "# iterate over datasets of different size\n",
    "for datasetsize in np.arange(4, 784, step=20):\n",
    "    XX = Xbar[:datasetsize] # select the first `datasetsize` samples in the dataset\n",
    "    # record the running time for computing X.T @ X\n",
    "    mu, sigma = time(lambda : XX.T @ XX)\n",
    "    times_mm0.append((datasetsize, mu, sigma))\n",
    "    \n",
    "    # record the running time for computing X @ X.T\n",
    "    mu, sigma = time(lambda : XX @ XX.T)\n",
    "    times_mm1.append((datasetsize, mu, sigma))\n",
    "    \n",
    "times_mm0 = np.asarray(times_mm0)\n",
    "times_mm1 = np.asarray(times_mm1)"
   ]
  },
  {
   "cell_type": "markdown",
   "metadata": {},
   "source": [
    "Having recorded the running time for computing `X @ X.T` and `X @ X.T`, we can plot them."
   ]
  },
  {
   "cell_type": "code",
   "execution_count": 58,
   "metadata": {},
   "outputs": [
    {
     "data": {
      "image/png": "[encoded data removed]",
      "text/plain": [
       "<Figure size 432x288 with 1 Axes>"
      ]
     },
     "metadata": {
      "needs_background": "light"
     },
     "output_type": "display_data"
    }
   ],
   "source": [
    "fig, ax = plt.subplots()\n",
    "ax.set(xlabel='size of dataset', ylabel='running time')\n",
    "bar = ax.errorbar(times_mm0[:, 0], times_mm0[:, 1], times_mm0[:, 2], label=\"$X^T X$ (PCA)\", linewidth=2)\n",
    "ax.errorbar(times_mm1[:, 0], times_mm1[:, 1], times_mm1[:, 2], label=\"$X X^T$ (PCA_high_dim)\", linewidth=2)\n",
    "ax.legend();"
   ]
  },
  {
   "cell_type": "markdown",
   "metadata": {},
   "source": [
    "Alternatively, use the `time` magic command for benchmarking functions."
   ]
  },
  {
   "cell_type": "code",
   "execution_count": 59,
   "metadata": {},
   "outputs": [
    {
     "name": "stdout",
     "output_type": "stream",
     "text": [
      "Wall time: 3.99 ms\n",
      "Wall time: 4.98 ms\n"
     ]
    }
   ],
   "source": [
    "%time Xbar.T @ Xbar\n",
    "%time Xbar @ Xbar.T\n",
    "pass # Put this here so that our output does not show result of computing `Xbar @ Xbar.T`"
   ]
  },
  {
   "cell_type": "markdown",
   "metadata": {},
   "source": [
    "Next we benchmark PCA, PCA_high_dim."
   ]
  },
  {
   "cell_type": "code",
   "execution_count": 60,
   "metadata": {},
   "outputs": [],
   "source": [
    "times0 = []\n",
    "times1 = []\n",
    "\n",
    "# iterate over datasets of different size\n",
    "for datasetsize in np.arange(4, 784, step=100):\n",
    "    XX = Xbar[:datasetsize]\n",
    "    npc = 2\n",
    "    mu, sigma = time(lambda : PCA(XX, npc), repeat=10)\n",
    "    times0.append((datasetsize, mu, sigma))\n",
    "    \n",
    "    mu, sigma = time(lambda : PCA_high_dim(XX, npc), repeat=10)\n",
    "    times1.append((datasetsize, mu, sigma))\n",
    "    \n",
    "times0 = np.asarray(times0)\n",
    "times1 = np.asarray(times1)"
   ]
  },
  {
   "cell_type": "markdown",
   "metadata": {},
   "source": [
    "Let's plot the running time. Spend some time and think about what this plot means. We mentioned in lectures that PCA_high_dim are advantageous when\n",
    "we have dataset size $N$ < data dimension $M$. Although our plot does not for the two running time does not intersect exactly at $N = M$, it does show the trend."
   ]
  },
  {
   "cell_type": "code",
   "execution_count": 61,
   "metadata": {
    "scrolled": true
   },
   "outputs": [
    {
     "data": {
      "image/png": "[encoded data removed]",
      "text/plain": [
       "<Figure size 432x288 with 1 Axes>"
      ]
     },
     "metadata": {
      "needs_background": "light"
     },
     "output_type": "display_data"
    }
   ],
   "source": [
    "fig, ax = plt.subplots()\n",
    "ax.set(xlabel='number of datapoints', ylabel='run time')\n",
    "ax.errorbar(times0[:, 0], times0[:, 1], times0[:, 2], label=\"PCA\", linewidth=2)\n",
    "ax.errorbar(times1[:, 0], times1[:, 1], times1[:, 2], label=\"PCA_high_dim\", linewidth=2)\n",
    "ax.legend();"
   ]
  },
  {
   "cell_type": "markdown",
   "metadata": {},
   "source": [
    "Again, with the magic command `time`."
   ]
  },
  {
   "cell_type": "code",
   "execution_count": 62,
   "metadata": {},
   "outputs": [
    {
     "name": "stdout",
     "output_type": "stream",
     "text": [
      "Wall time: 124 ms\n",
      "Wall time: 287 ms\n"
     ]
    }
   ],
   "source": [
    "%time PCA(Xbar, 2)\n",
    "%time PCA_high_dim(Xbar, 2)\n",
    "pass"
   ]
  },
  {
   "cell_type": "code",
   "execution_count": null,
   "metadata": {},
   "outputs": [],
   "source": []
  }
 ],
 "metadata": {
  "coursera": {
   "course_slug": "mathematics-machine-learning-pca",
   "graded_item_id": "CXC11",
   "launcher_item_id": "ub5A7"
  },
  "kernelspec": {
   "display_name": "Python 3 (ipykernel)",
   "language": "python",
   "name": "python3"
  },
  "language_info": {
   "codemirror_mode": {
    "name": "ipython",
    "version": 3
   },
   "file_extension": ".py",
   "mimetype": "text/x-python",
   "name": "python",
   "nbconvert_exporter": "python",
   "pygments_lexer": "ipython3",
   "version": "3.8.11"
  }
 },
 "nbformat": 4,
 "nbformat_minor": 2
}
